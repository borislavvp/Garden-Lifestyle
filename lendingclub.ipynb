{
 "cells": [
  {
   "cell_type": "code",
   "execution_count": null,
   "metadata": {},
   "outputs": [],
   "source": [
    "import numpy as np\n",
    "import pandas as pd\n",
    "import seaborn as sns\n",
    "import matplotlib.pyplot as plt\n",
    "\n",
    "import plotly.offline as py\n",
    "import plotly.express as px\n",
    "from plotly import __version__\n",
    "import plotly.graph_objects as go\n",
    "from plotly.offline import download_plotlyjs, init_notebook_mode, plot, iplot\n",
    "import cufflinks as cf\n",
    "\n",
    "from sklearn.model_selection import cross_val_score, KFold\n",
    "from sklearn.model_selection import GridSearchCV\n",
    "\n",
    "from sklearn import metrics\n",
    "from sklearn.metrics import accuracy_score\n",
    "\n",
    "import warnings\n",
    "warnings.filterwarnings(\"ignore\")\n",
    "\n",
    "%matplotlib inline"
   ]
  },
  {
   "cell_type": "code",
   "execution_count": null,
   "metadata": {},
   "outputs": [],
   "source": [
    "init_notebook_mode(connected=True)\n",
    "cf.go_offline()"
   ]
  },
  {
   "cell_type": "code",
   "execution_count": null,
   "metadata": {},
   "outputs": [],
   "source": [
    "df = pd.read_csv(\"loan-data.csv\")"
   ]
  },
  {
   "cell_type": "code",
   "execution_count": null,
   "metadata": {},
   "outputs": [],
   "source": [
    "df.head()"
   ]
  },
  {
   "cell_type": "code",
   "execution_count": null,
   "metadata": {},
   "outputs": [],
   "source": [
    "df.info()"
   ]
  },
  {
   "cell_type": "code",
   "execution_count": null,
   "metadata": {},
   "outputs": [],
   "source": [
    "df.describe()"
   ]
  },
  {
   "cell_type": "code",
   "execution_count": null,
   "metadata": {},
   "outputs": [],
   "source": [
    "#Checking which columns have more than 50% null values\n",
    "df_null = pd.DataFrame({'Count': df.isnull().sum(), 'Percent': 100*df.isnull().sum()/len(df)})\n",
    "df_null[df_null['Percent'] >= 50]"
   ]
  },
  {
   "cell_type": "code",
   "execution_count": null,
   "metadata": {},
   "outputs": [],
   "source": [
    "#Dropping the columns in which 50% of the values are null\n",
    "df = df.dropna(axis=1, thresh=int(0.50*len(df)))\n",
    "df.info()"
   ]
  },
  {
   "cell_type": "code",
   "execution_count": null,
   "metadata": {},
   "outputs": [],
   "source": [
    "#Renaming some of the columns\n",
    "df = df.rename(columns={\"loan_amnt\": \"loan_amount\",\"int_rate\": \"interest_rate\", \"annual_inc\": \"annual_income\",\"funded_amnt\":\"funded_amount\"})"
   ]
  },
  {
   "cell_type": "code",
   "execution_count": null,
   "metadata": {},
   "outputs": [],
   "source": [
    "#Creating a column which is consisting only with the years of the loan issue dates\n",
    "dt_series = pd.to_datetime(df['issue_d'])\n",
    "df['year'] = dt_series.dt.year"
   ]
  },
  {
   "cell_type": "code",
   "execution_count": null,
   "metadata": {},
   "outputs": [],
   "source": [
    "df.groupby(\"year\").count()"
   ]
  },
  {
   "cell_type": "code",
   "execution_count": null,
   "metadata": {},
   "outputs": [],
   "source": [
    "#Plot Loans per Year\n",
    "plt.figure(figsize=(16,8))\n",
    "sns.barplot('year', 'loan_amount', data=df, palette='tab10')\n",
    "plt.title('Issuance of Loans Through The Years', fontsize=16)\n",
    "plt.xlabel('Year', fontsize=14)\n",
    "plt.ylabel('Average loan amount issued', fontsize=14)"
   ]
  },
  {
   "cell_type": "code",
   "execution_count": null,
   "metadata": {},
   "outputs": [],
   "source": [
    "#Checking the loan statuses\n",
    "df['loan_status'].unique()"
   ]
  },
  {
   "cell_type": "code",
   "execution_count": null,
   "metadata": {},
   "outputs": [],
   "source": [
    "#Distribution of loan status\n",
    "m =df['loan_status'].value_counts()\n",
    "m = m.to_frame()\n",
    "m.reset_index(inplace=True)\n",
    "m.columns = ['Loan Status','Count']\n",
    "\n",
    "fig = px.bar(m, x=\"Loan Status\", y=\"Count\", color=\"Loan Status\")\n",
    "\n",
    "fig.update_layout(\n",
    "    autosize=False,\n",
    "    width=990,\n",
    "    height=700,\n",
    "    margin=go.layout.Margin(\n",
    "        l=50,\n",
    "        r=50,\n",
    "        b=100,\n",
    "        t=100,\n",
    "        pad=4\n",
    "    ),\n",
    "    legend=go.layout.Legend(\n",
    "        x=0.7,\n",
    "        y=1.2,\n",
    "        traceorder=\"normal\",\n",
    "        font=dict(\n",
    "            family=\"sans-serif\",\n",
    "            size=12,\n",
    "            color=\"black\"\n",
    "        ),\n",
    "        bgcolor=\"LightSteelBlue\",\n",
    "        bordercolor=\"Black\",\n",
    "        borderwidth=2\n",
    "    ),\n",
    "    title_text='Distribution of Loan Status in our Dataset'\n",
    ")\n",
    "fig.show()"
   ]
  },
  {
   "cell_type": "code",
   "execution_count": null,
   "metadata": {},
   "outputs": [],
   "source": [
    "#Distributing the loan status to : bad loans and good loans\n",
    "bad_loan = [\"Charged Off\", \"Default\", \"Does not meet the credit policy. Status:Charged Off\", \"In Grace Period\", \n",
    "            \"Late (16-30 days)\", \"Late (31-120 days)\"]\n",
    "\n",
    "#Creating function which will change the loan status to bad or good\n",
    "def loan_condition(status):\n",
    "    if status in bad_loan:\n",
    "        return 'Bad Loan'\n",
    "    else:\n",
    "        return 'Good Loan'"
   ]
  },
  {
   "cell_type": "code",
   "execution_count": null,
   "metadata": {},
   "outputs": [],
   "source": [
    "#Defining a new column - loan_condition, which will containg values wheter the loan status is good or bad\n",
    "df['loan_condition'] = np.nan\n",
    "#Applying the function that we created on the previous block on the new column   \n",
    "df['loan_condition'] = df['loan_status'].apply(loan_condition)"
   ]
  },
  {
   "cell_type": "code",
   "execution_count": null,
   "metadata": {},
   "outputs": [],
   "source": [
    "df.groupby(['loan_condition',\"year\"]).count()"
   ]
  },
  {
   "cell_type": "code",
   "execution_count": null,
   "metadata": {},
   "outputs": [],
   "source": [
    "# Plotting the comparison between the Good and the Bad loans\n",
    "f, ax = plt.subplots(1,2, figsize=(16,8))\n",
    "\n",
    "colors = [\"#3791D7\", \"#D72626\"]\n",
    "labels =\"Good Loans\", \"Bad Loans\"\n",
    "\n",
    "plt.suptitle('Information on Loan Conditions', fontsize=20)\n",
    "\n",
    "df[\"loan_condition\"].value_counts().plot.pie(explode=[0,0.25], autopct='%1.2f%%', ax=ax[0], shadow=True, colors=colors, \n",
    "                                             labels=labels, fontsize=12, startangle=70)\n",
    "\n",
    "ax[0].set_title('State of Loan', fontsize=16)\n",
    "ax[0].set_ylabel('% of Condition of Loans', fontsize=14)\n",
    "\n",
    "sns.countplot('loan_condition', data=df, ax=ax[1], palette=colors)\n",
    "ax[1].set_title('Condition of Loans', fontsize=20)\n",
    "ax[1].set_xticklabels(['Good Loan', 'Bad Loan'], rotation='horizontal')\n",
    "palette = [\"#3791D7\", \"#E01E1B\"]\n"
   ]
  },
  {
   "cell_type": "code",
   "execution_count": null,
   "metadata": {},
   "outputs": [],
   "source": [
    "#Plotting comparison between the Good and Bad Loans per Year\n",
    "plt.figure(figsize=(16,8))\n",
    "sns.countplot(x='year',hue='loan_condition',data=df,palette=palette)"
   ]
  },
  {
   "cell_type": "code",
   "execution_count": null,
   "metadata": {},
   "outputs": [],
   "source": [
    "f, ((ax1, ax2)) = plt.subplots(1, 2)\n",
    "cmap = plt.cm.coolwarm\n",
    "\n",
    "by_credit_score = df.groupby(['year', 'grade']).loan_amount.mean()\n",
    "by_credit_score.unstack().plot(legend=False, ax=ax1, figsize=(14, 4), colormap=cmap)\n",
    "ax1.set_title('Loans issued by Credit Score', fontsize=14)\n",
    "    \n",
    "    \n",
    "by_inc = df.groupby(['year', 'grade']).interest_rate.mean()\n",
    "by_inc.unstack().plot(ax=ax2, figsize=(14, 4), colormap=cmap)\n",
    "ax2.set_title('Interest Rates by Credit Score', fontsize=14)\n",
    "\n",
    "ax2.legend(bbox_to_anchor=(-1.0, -0.3, 1.7, 0.1), loc=5, prop={'size':12},\n",
    "           ncol=7, mode=\"expand\", borderaxespad=0.)"
   ]
  },
  {
   "cell_type": "code",
   "execution_count": null,
   "metadata": {},
   "outputs": [],
   "source": [
    "#Relation between interest rate for each type of loan\n",
    "plt.figure(figsize=(16,6))\n",
    "\n",
    "ax = sns.lineplot(x=\"year\", y=\"interest_rate\",hue=\"loan_condition\", data=df)\n",
    "ax = plt.title('Time Series Plot of Interest Rate By Loan Status Through The Years')\n",
    "ax = plt.xlabel('Year')\n",
    "ax = plt.ylabel('Interest Rate')"
   ]
  },
  {
   "cell_type": "code",
   "execution_count": null,
   "metadata": {},
   "outputs": [],
   "source": [
    "#Plotting the amount of loans borrowed through the years for each type\n",
    "import plotly.graph_objs as go\n",
    "title = 'Amount of Loans borrowed'\n",
    "\n",
    "labels = bad_loan # All the elements that comprise a bad loan.\n",
    "\n",
    "len(labels)\n",
    "colors = ['rgba(236, 112, 99, 1)', 'rgba(235, 152, 78, 1)']\n",
    "\n",
    "mode_size = [8,8,8,8,8,8]\n",
    "\n",
    "line_size = [2,2,2,2,2,2]\n",
    "\n",
    "x_data = [\n",
    "    sorted(df['year'].unique().tolist())\n",
    "]\n",
    "\n",
    "# type of loans\n",
    "goodloan = df[df['loan_condition'] == 'Good Loan']['loan_amount'].values.tolist()\n",
    "badloan = df[df['loan_condition'] == 'Bad Loan']['loan_amount'].values.tolist()\n",
    "\n",
    "y_data = [\n",
    "    goodloan,\n",
    "    badloan\n",
    "]\n",
    "\n",
    "p_goodloans = go.Scatter(\n",
    "    x = x_data[0],\n",
    "    y = y_data[0],\n",
    "    mode='lines+markers',\n",
    "    name = 'Good Loan',\n",
    "    line = dict(\n",
    "        color = colors[0],\n",
    "        width = 3)\n",
    ")\n",
    "\n",
    "p_badloans = go.Scatter(\n",
    "    x = x_data[0],\n",
    "    y = y_data[1],\n",
    "    mode='lines+markers',\n",
    "    name = 'Bad Loan',\n",
    "    line = dict(\n",
    "        color = colors[1],\n",
    "        width = 3)\n",
    ")\n",
    "\n",
    "\n",
    "data=[p_goodloans, p_badloans]\n",
    "\n",
    "layout = dict(title = 'Types of Loans <br> (Amount Borrowed Throughout the Years)',\n",
    "                  xaxis = dict(title = 'Year'),\n",
    "                  yaxis = dict(title = 'Amount Issued')\n",
    "              )\n",
    "\n",
    "fig = dict(data=data, layout=layout)\n",
    "\n",
    "iplot(fig, filename='line-mode')"
   ]
  },
  {
   "cell_type": "code",
   "execution_count": null,
   "metadata": {},
   "outputs": [],
   "source": [
    "#Making a wordcloud for purpose of the loan,employee title adn home ownership\n",
    "from wordcloud import WordCloud, STOPWORDS, ImageColorGenerator\n",
    "\n",
    "stopwords = set(STOPWORDS)\n",
    "\n",
    "def show_wordcloud(data, title = None):\n",
    "    wordcloud = WordCloud(\n",
    "        background_color='white',\n",
    "        stopwords=stopwords,\n",
    "        max_words=200,\n",
    "        max_font_size=40, \n",
    "        scale=3,\n",
    "        random_state=1 # chosen at random by flipping a coin; it was heads\n",
    "    ).generate(str(data))\n",
    "\n",
    "    fig = plt.figure(1, figsize=(12, 12))\n",
    "    plt.axis('off')\n",
    "    plt.imshow(wordcloud, interpolation='bilinear')\n",
    "    plt.show()\n",
    "\n",
    "show_wordcloud(df[['purpose','emp_title','home_ownership']].dropna())"
   ]
  },
  {
   "cell_type": "code",
   "execution_count": null,
   "metadata": {},
   "outputs": [],
   "source": [
    "#Distributing the interest rate into \"High\" or \"Low\" values into a new column- 'interest_payments'\n",
    "df['interest_payments'] = np.nan\n",
    "lst = [df]\n",
    "\n",
    "for col in lst:\n",
    "    col.loc[col['interest_rate'] <= 13.23, 'interest_payments'] = 'Low'\n",
    "    col.loc[col['interest_rate'] > 13.23, 'interest_payments'] = 'High'\n",
    "    "
   ]
  },
  {
   "cell_type": "code",
   "execution_count": null,
   "metadata": {},
   "outputs": [],
   "source": [
    "#Plotting :\n",
    "    #The impact of interest rate on the condition of the loan\n",
    "    #The impact of maturity date on interest rates\n",
    "    #Comparison between the types of interest payments\n",
    "from scipy.stats import norm\n",
    "\n",
    "plt.figure(figsize=(20,10))\n",
    "\n",
    "palette = ['#7e42f5', '#f5b942']\n",
    "plt.subplot(221)\n",
    "ax = sns.countplot(x='interest_payments', data=df, \n",
    "                  palette=palette, hue='loan_condition')\n",
    "\n",
    "ax.set_title('The impact of interest rate \\n on the condition of the loan', fontsize=14)\n",
    "ax.set_xlabel('Level of Interest Payments', fontsize=12)\n",
    "ax.set_ylabel('Count')\n",
    "\n",
    "plt.subplot(222)\n",
    "ax1 = sns.countplot(x='interest_payments', data=df, \n",
    "                   palette=palette, hue='term')\n",
    "\n",
    "ax1.set_title('The impact of maturity date \\n on interest rates', fontsize=14)\n",
    "ax1.set_xlabel('Level of Interest Payments', fontsize=12)\n",
    "ax1.set_ylabel('Count')\n",
    "\n",
    "\n",
    "plt.subplot(212)\n",
    "low = df['loan_amount'].loc[df['interest_payments'] == 'Low'].values\n",
    "high = df['loan_amount'].loc[df['interest_payments'] == 'High'].values\n",
    "\n",
    "\n",
    "ax2= sns.distplot(low, color='#7e42f5', label='Low Interest Payments', fit=norm, fit_kws={\"color\":\"#483d8b\"}) # Dark Blue Norm Color\n",
    "ax3 = sns.distplot(high, color='#f5b942', label='High Interest Payments', fit=norm, fit_kws={\"color\":\"#c71585\"}) #  Red Norm Color\n",
    "plt.axis([0, 36000, 0, 0.00016])\n",
    "plt.legend()\n",
    "\n",
    "\n",
    "plt.show()"
   ]
  },
  {
   "cell_type": "code",
   "execution_count": null,
   "metadata": {},
   "outputs": [],
   "source": [
    "#Plotting the amount of loans issued through the years for each type of bad loan\n",
    "import plotly.graph_objs as go\n",
    "title = 'Bad Loans: Loan Statuses'\n",
    "\n",
    "labels = bad_loan # All the elements that comprise a bad loan.\n",
    "\n",
    "len(labels)\n",
    "colors = ['rgba(236, 112, 99, 1)', 'rgba(235, 152, 78, 1)', 'rgba(52, 73, 94, 1)', 'rgba(128, 139, 150, 1)',\n",
    "         'rgba(255, 87, 51, 1)', 'rgba(255, 195, 0, 1)']\n",
    "\n",
    "mode_size = [8,8,8,8,8,8]\n",
    "\n",
    "line_size = [2,2,2,2,2,2]\n",
    "\n",
    "x_data = [\n",
    "    sorted(df['year'].unique().tolist()),\n",
    "    sorted(df['year'].unique().tolist()),\n",
    "    sorted(df['year'].unique().tolist()),\n",
    "    sorted(df['year'].unique().tolist()), \n",
    "    sorted(df['year'].unique().tolist()),\n",
    "    sorted(df['year'].unique().tolist()),\n",
    "]\n",
    "\n",
    "# type of loans\n",
    "charged_off = df['loan_amount'].loc[df['loan_status'] == 'Charged Off'].values.tolist()\n",
    "defaults = df['loan_amount'].loc[df['loan_status'] == 'Default'].values.tolist()\n",
    "not_credit_policy = df['loan_amount'].loc[df['loan_status'] == 'Does not meet the credit policy. Status:Charged Off'].values.tolist()\n",
    "grace_period = df['loan_amount'].loc[df['loan_status'] == 'In Grace Period'].values.tolist()\n",
    "short_late = df['loan_amount'].loc[df['loan_status'] == 'Late (16-30 days)'].values.tolist()\n",
    "long_late = df['loan_amount'].loc[df['loan_status'] == 'Late (31-120 days)'].values.tolist()\n",
    "\n",
    "y_data = [\n",
    "    charged_off,\n",
    "    defaults,\n",
    "    not_credit_policy,\n",
    "    grace_period,\n",
    "    short_late,\n",
    "    long_late,\n",
    "]\n",
    "\n",
    "p_charged_off = go.Scatter(\n",
    "    x = x_data[0],\n",
    "    y = y_data[0],\n",
    "    name = 'A. Charged Off',\n",
    "    line = dict(\n",
    "        color = colors[0],\n",
    "        width = 3,\n",
    "        dash='dash')\n",
    ")\n",
    "\n",
    "p_defaults = go.Scatter(\n",
    "    x = x_data[1],\n",
    "    y = y_data[1],\n",
    "    name = 'A. Defaults',\n",
    "    line = dict(\n",
    "        color = colors[1],\n",
    "        width = 3,\n",
    "        dash='dash')\n",
    ")\n",
    "\n",
    "p_credit_policy = go.Scatter(\n",
    "    x = x_data[2],\n",
    "    y = y_data[2],\n",
    "    name = 'Not Meet C.P',\n",
    "    line = dict(\n",
    "        color = colors[2],\n",
    "        width = 3,\n",
    "        dash='dash')\n",
    ")\n",
    "\n",
    "p_graced = go.Scatter(\n",
    "    x = x_data[3],\n",
    "    y = y_data[3],\n",
    "    name = 'A. Graced Period',\n",
    "    line = dict(\n",
    "        color = colors[3],\n",
    "        width = 3,\n",
    "        dash='dash')\n",
    ")\n",
    "\n",
    "p_short_late = go.Scatter(\n",
    "    x = x_data[4],\n",
    "    y = y_data[4],\n",
    "    name = 'Late (16-30 days)',\n",
    "    line = dict(\n",
    "        color = colors[4],\n",
    "        width = 3,\n",
    "        dash='dash')\n",
    ")\n",
    "\n",
    "p_long_late = go.Scatter(\n",
    "    x = x_data[5],\n",
    "    y = y_data[5],\n",
    "    name = 'Late (31-120 days)',\n",
    "    line = dict(\n",
    "        color = colors[5],\n",
    "        width = 3,\n",
    "        dash='dash')\n",
    ")\n",
    "\n",
    "\n",
    "\n",
    "\n",
    "data=[p_charged_off, p_defaults, p_credit_policy, p_graced, p_short_late, p_long_late]\n",
    "\n",
    "layout = dict(title = 'Types of Bad Loans <br> (Amount Borrowed Throughout the Years)',\n",
    "              xaxis = dict(title = 'Year'),\n",
    "              yaxis = dict(title = 'Amount Issued'),\n",
    "              )\n",
    "\n",
    "fig = dict(data=data, layout=layout)\n",
    "\n",
    "iplot(fig, filename='line-mode')"
   ]
  },
  {
   "cell_type": "code",
   "execution_count": null,
   "metadata": {},
   "outputs": [],
   "source": [
    "#Plotting the loans issued per different type of home ownership\n",
    "import plotly.express as px\n",
    "fig = px.box(df, x=\"year\", y=\"loan_amount\", color=\"home_ownership\", notched=True)\n",
    "\n",
    "fig.update_layout(\n",
    "    autosize=False,\n",
    "    width=1500,\n",
    "    height=700,\n",
    "    margin=go.layout.Margin(\n",
    "        l=50,\n",
    "        r=50,\n",
    "        b=100,\n",
    "        t=100,\n",
    "        pad=4\n",
    "    ),\n",
    "    legend=go.layout.Legend(\n",
    "        x=0,\n",
    "        y=1,\n",
    "        traceorder=\"normal\",\n",
    "        font=dict(\n",
    "            family=\"sans-serif\",\n",
    "            size=12,\n",
    "            color=\"black\"\n",
    "        ),\n",
    "        bgcolor=\"LightSteelBlue\",\n",
    "        bordercolor=\"Black\",\n",
    "        borderwidth=2\n",
    "    )\n",
    ")\n",
    "fig.show()"
   ]
  },
  {
   "cell_type": "code",
   "execution_count": null,
   "metadata": {},
   "outputs": [],
   "source": [
    "#Distributing to good and bad loans for each purpose they have been issued\n",
    "df['purpose'].value_counts()\n",
    "\n",
    "# Education, renewable energy, wedding are the purposed that contains highest bad loans percent wise.\n",
    "\n",
    "purpose_condition = round(pd.crosstab(df['loan_condition'], df['purpose']).apply(lambda x: x/x.sum() * 100), 2)\n",
    "\n",
    "purpose_bad_loans = purpose_condition.values[0].tolist()\n",
    "purpose_good_loans = purpose_condition.values[1].tolist()\n",
    "purpose = purpose_condition.columns\n",
    "\n",
    "\n",
    "bad_plot = go.Bar(\n",
    "    x=purpose,\n",
    "    y=purpose_bad_loans,\n",
    "    name = 'Bad Loans',\n",
    "    text='%',\n",
    "    marker=dict(\n",
    "        color='rgba(213, 250, 5, 0.7)',\n",
    "        line = dict(\n",
    "            color='rgba(213, 250, 5, 1.0)',\n",
    "            width=2\n",
    "        )\n",
    "    )\n",
    ")\n",
    "\n",
    "good_plot = go.Bar(\n",
    "    x=purpose,\n",
    "    y=purpose_good_loans,\n",
    "    name='Good Loans',\n",
    "    text='%',\n",
    "    marker=dict(\n",
    "        color='rgba(187, 4, 212, 0.7)',\n",
    "        line = dict(\n",
    "            color='rgba(187, 4, 212, 1.0)',\n",
    "            width=2\n",
    "        )\n",
    "    )\n",
    ")\n",
    "\n",
    "\n",
    "data = [bad_plot, good_plot]\n",
    "\n",
    "layout = go.Layout(\n",
    "    title='Condition of Loan by Purpose',\n",
    "    xaxis=dict(\n",
    "        title=''\n",
    "    ),\n",
    "    yaxis=dict(\n",
    "        title='% of the Loan',\n",
    "    ),\n",
    "    paper_bgcolor='#c8cfcf',\n",
    "    plot_bgcolor='#c8cfcf',\n",
    "    showlegend=True\n",
    ")\n",
    "\n",
    "fig = dict(data=data, layout=layout)\n",
    "iplot(fig, filename='condition_purposes')"
   ]
  },
  {
   "cell_type": "code",
   "execution_count": null,
   "metadata": {},
   "outputs": [],
   "source": [
    "#Creating a new column - 'emp-length_int', which represents the lenght of the employee in numbers\n",
    "employment_length = ['10+ years', '< 1 year', '1 year', '3 years', '8 years', '9 years',\n",
    "                    '4 years', '5 years', '6 years', '2 years', '7 years', 'n/a']\n",
    "\n",
    "# Create a new column and convert emp_length to integers.\n",
    "\n",
    "lst = [df]\n",
    "df['emp_length_int'] = np.nan\n",
    "\n",
    "for col in lst:\n",
    "    col.loc[col['emp_length'] == '10+ years', \"emp_length_int\"] = 10\n",
    "    col.loc[col['emp_length'] == '9 years', \"emp_length_int\"] = 9\n",
    "    col.loc[col['emp_length'] == '8 years', \"emp_length_int\"] = 8\n",
    "    col.loc[col['emp_length'] == '7 years', \"emp_length_int\"] = 7\n",
    "    col.loc[col['emp_length'] == '6 years', \"emp_length_int\"] = 6\n",
    "    col.loc[col['emp_length'] == '5 years', \"emp_length_int\"] = 5\n",
    "    col.loc[col['emp_length'] == '4 years', \"emp_length_int\"] = 4\n",
    "    col.loc[col['emp_length'] == '3 years', \"emp_length_int\"] = 3\n",
    "    col.loc[col['emp_length'] == '2 years', \"emp_length_int\"] = 2\n",
    "    col.loc[col['emp_length'] == '1 year', \"emp_length_int\"] = 1\n",
    "    col.loc[col['emp_length'] == '< 1 year', \"emp_length_int\"] = 0.5\n",
    "    col.loc[col['emp_length'] == 'n/a', \"emp_length_int\"] = 0"
   ]
  },
  {
   "cell_type": "code",
   "execution_count": null,
   "metadata": {},
   "outputs": [],
   "source": [
    "#Defining new column - 'income_category', which relates to the type('Low','Medium' or 'High')\n",
    "df['income_category'] = np.nan\n",
    "lst = [df]\n",
    "\n",
    "for col in lst:\n",
    "    col.loc[col['annual_income'] <= 100000, 'income_category'] = 'Low'\n",
    "    col.loc[(col['annual_income'] > 100000) & (col['annual_income'] <= 200000), 'income_category'] = 'Medium'\n",
    "    col.loc[col['annual_income'] > 200000, 'income_category'] = 'High'"
   ]
  },
  {
   "cell_type": "code",
   "execution_count": null,
   "metadata": {},
   "outputs": [],
   "source": [
    "group_income_purpose = df.groupby(['income_category', 'purpose'], as_index=False).interest_rate.mean()\n",
    "group_dti_purpose = df.groupby(['income_category', 'purpose'], as_index=False).loan_amount.mean()\n",
    "loan_a = group_dti_purpose['loan_amount'].values\n",
    "\n",
    "\n",
    "\n",
    "# High Car 10.32 15669\n",
    "new_groupby = group_income_purpose.assign(total_loan_amount=loan_a)\n",
    "sort_group_income_purpose = new_groupby.sort_values(by=\"income_category\", ascending=True)"
   ]
  },
  {
   "cell_type": "code",
   "execution_count": null,
   "metadata": {},
   "outputs": [],
   "source": [
    "loan_count = df.groupby(['income_category', 'purpose'])['loan_condition'].apply(lambda x: x.value_counts())\n",
    "d={\"loan_c\": loan_count}\n",
    "loan_c_df = pd.DataFrame(data=d).reset_index()\n",
    "loan_c_df = loan_c_df.rename(columns={\"level_2\": \"loan_condition\"})\n",
    "\n",
    "\n",
    "# Good loans & Bad Loans\n",
    "good_loans = loan_c_df.loc[loan_c_df['loan_condition'] == \"Good Loan\"].sort_values(by=\"income_category\", ascending=True)\n",
    "bad_loans = loan_c_df.loc[loan_c_df['loan_condition'] == \"Bad Loan\"].sort_values(by=\"income_category\", ascending=True)\n",
    "sort_group_income_purpose['good_loans_count'] = good_loans['loan_c'].values\n",
    "sort_group_income_purpose['bad_loans_count'] = bad_loans['loan_c'].values\n",
    "sort_group_income_purpose['total_loans_issued'] = (good_loans['loan_c'].values + bad_loans['loan_c'].values)\n",
    "sort_group_income_purpose['bad/good ratio (%)'] = np.around(bad_loans['loan_c'].values / (bad_loans['loan_c'].values + good_loans['loan_c'].values), 4) * 100\n",
    "final_df = sort_group_income_purpose.sort_values(by='income_category', ascending=True)\n",
    "final_df.style.background_gradient('Greens')"
   ]
  },
  {
   "cell_type": "code",
   "execution_count": null,
   "metadata": {},
   "outputs": [],
   "source": [
    "#Creating a column - 'loan_condition_int',which can be '1' - related to a 'Good Loan' and '0' for a 'Bad Loan'\n",
    "lst = [df]\n",
    "df['loan_condition_int'] = np.nan\n",
    "\n",
    "for col in lst:\n",
    "    col.loc[df['loan_condition'] == 'Good Loan', 'loan_condition_int'] = 0 # Negative (Bad Loan)\n",
    "    col.loc[df['loan_condition'] == 'Bad Loan', 'loan_condition_int'] = 1 # Positive (Good Loan)\n",
    "    \n",
    "# Convert from float to int the column (This is our label)  \n",
    "df['loan_condition_int'] = df['loan_condition_int'].astype(int)"
   ]
  },
  {
   "cell_type": "code",
   "execution_count": null,
   "metadata": {},
   "outputs": [],
   "source": [
    "#Diisplaying :\n",
    "    #Loan Issued Per Inc. Category\n",
    "    #Good/Bad Loan Per Inc. Category\n",
    "    #Employee Length Per Inc. Category\n",
    "    #Interest Rate Per Inc. Category\n",
    "    \n",
    "from plotly.subplots import make_subplots\n",
    "\n",
    "fig = make_subplots(rows=2, cols=2, start_cell=\"bottom-left\",\n",
    "                    subplot_titles=(\"Loan Issued Per Inc. Category\",\"Good/Bad Loan Per Inc. Category\",\n",
    "                                    \"Employee Length Per Inc. Category\",\"Interest Rate Per Inc. Category\"))\n",
    "\n",
    "fig.add_trace(go.Violin(\n",
    "            x=df[\"income_category\"],\n",
    "            y=df[\"loan_amount\"]),\n",
    "              row=1, col=1)\n",
    "\n",
    "fig.add_trace(go.Violin(\n",
    "            x=df[\"income_category\"], \n",
    "            y=df[\"loan_condition\"]),\n",
    "              row=1, col=2)\n",
    "\n",
    "fig.add_trace(go.Violin(\n",
    "            x=df[\"income_category\"],\n",
    "            y=df[\"emp_length_int\"]),\n",
    "              row=2, col=1)\n",
    "\n",
    "fig.add_trace(go.Violin(\n",
    "            x=df[\"income_category\"], \n",
    "            y=df[\"interest_rate\"]),\n",
    "              row=2, col=2)\n",
    "\n",
    "fig.update_layout(showlegend=False, title_text=\"Income Distribution\")\n",
    "\n",
    "fig.show()"
   ]
  },
  {
   "cell_type": "code",
   "execution_count": null,
   "metadata": {
    "scrolled": false
   },
   "outputs": [],
   "source": [
    "title_mask = df.emp_title.value_counts()[:20].index.values \n",
    "cm = sns.light_palette(\"green\", as_cmap=True)\n",
    "\n",
    "dtfig = round(pd.crosstab(df[df['emp_title'].isin(title_mask)]['emp_title'], \n",
    "                  df[df['emp_title'].isin(title_mask)]['sub_grade'], \n",
    "                  normalize='index') * 100,2)\n",
    "dtfig.style.background_gradient(cmap = cm)"
   ]
  },
  {
   "cell_type": "code",
   "execution_count": null,
   "metadata": {},
   "outputs": [],
   "source": [
    "#Plotting top 40 employment titles that had loans\n",
    "trace0 = go.Bar(\n",
    "    x = df.emp_title.value_counts()[:40].index.values,\n",
    "    y = df.emp_title.value_counts()[:40].values,\n",
    "    marker=dict(\n",
    "        color=df.emp_title.value_counts()[:40].values\n",
    "    ),\n",
    ")\n",
    "\n",
    "data = [trace0]\n",
    "\n",
    "layout = go.Layout(\n",
    "    yaxis=dict(\n",
    "        title='Count'\n",
    "    ),\n",
    "    xaxis=dict(\n",
    "        title='Employment name'\n",
    "    ),\n",
    "    title='TOP 40 Employment Title'\n",
    ")\n",
    "\n",
    "fig = go.Figure(data=data, layout=layout)\n",
    "\n",
    "py.iplot(fig, filename='emp-title-bar')"
   ]
  },
  {
   "cell_type": "code",
   "execution_count": null,
   "metadata": {},
   "outputs": [],
   "source": [
    "df['addr_state'].unique()"
   ]
  },
  {
   "cell_type": "code",
   "execution_count": null,
   "metadata": {},
   "outputs": [],
   "source": [
    "# Make a list with each of the regions by state and out them into a new column - 'region'.\n",
    "\n",
    "west = ['CA', 'OR', 'UT','WA', 'CO', 'NV', 'AK', 'MT', 'HI', 'WY', 'ID']\n",
    "south_west = ['AZ', 'TX', 'NM', 'OK']\n",
    "south_east = ['GA', 'NC', 'VA', 'FL', 'KY', 'SC', 'LA', 'AL', 'WV', 'DC', 'AR', 'DE', 'MS', 'TN' ]\n",
    "mid_west = ['IL', 'MO', 'MN', 'OH', 'WI', 'KS', 'MI', 'SD', 'IA', 'NE', 'IN', 'ND']\n",
    "north_east = ['CT', 'NY', 'PA', 'NJ', 'RI','MA', 'MD', 'VT', 'NH', 'ME']\n",
    "\n",
    "\n",
    "\n",
    "df['region'] = np.nan\n",
    "\n",
    "def finding_regions(state):\n",
    "    if state in west:\n",
    "        return 'West'\n",
    "    elif state in south_west:\n",
    "        return 'SouthWest'\n",
    "    elif state in south_east:\n",
    "        return 'SouthEast'\n",
    "    elif state in mid_west:\n",
    "        return 'MidWest'\n",
    "    elif state in north_east:\n",
    "        return 'NorthEast'\n",
    "    \n",
    "\n",
    "\n",
    "df['region'] = df['addr_state'].apply(finding_regions)"
   ]
  },
  {
   "cell_type": "code",
   "execution_count": null,
   "metadata": {},
   "outputs": [],
   "source": [
    "df['complete_date'] = pd.to_datetime(df['issue_d'])\n",
    "\n",
    "group_dates = df.groupby(['complete_date', 'region'], as_index=False).sum()\n",
    "\n",
    "group_dates['issue_d'] = [month.to_period('M') for \n",
    "                          month in group_dates['complete_date']]\n",
    "\n",
    "group_dates = group_dates.groupby(['issue_d', 'region'], as_index=False).sum()\n",
    "group_dates = group_dates.groupby(['issue_d', 'region'], as_index=False).sum()\n",
    "group_dates['loan_amount'] = group_dates['loan_amount']/1000\n",
    "\n",
    "\n",
    "df_dates = pd.DataFrame(data=group_dates[['issue_d','region','loan_amount']])"
   ]
  },
  {
   "cell_type": "code",
   "execution_count": null,
   "metadata": {},
   "outputs": [],
   "source": [
    "#Plotting the:\n",
    "    #Average Interest Rate by Region\n",
    "    #Average Employment Length by Region\n",
    "    #Average Debt-to-Income by Region\n",
    "    #Average Annual Income by Region\n",
    "\n",
    "sns.set_style('whitegrid')\n",
    "\n",
    "f, ((ax1, ax2), (ax3, ax4)) = plt.subplots(2, 2)\n",
    "cmap = 'cividis'\n",
    "\n",
    "by_interest_rate = df.groupby(['year', 'region']).interest_rate.mean()\n",
    "by_interest_rate.unstack().plot(kind='area', stacked=True, colormap=cmap, grid=False, legend=False, ax=ax1, figsize=(16,12))\n",
    "ax1.set_title('Average Interest Rate by Region', fontsize=14)\n",
    "\n",
    "\n",
    "by_employment_length = df.groupby(['year', 'region']).emp_length_int.mean()\n",
    "by_employment_length.unstack().plot(kind='area', stacked=True, colormap=cmap, grid=False, legend=False, ax=ax2, figsize=(16,12))\n",
    "ax2.set_title('Average Employment Length by Region', fontsize=14)\n",
    "# plt.xlabel('Year of Issuance', fontsize=14)\n",
    "\n",
    "by_dti = df.groupby(['year', 'region']).dti.mean()\n",
    "by_dti.unstack().plot(kind='area', stacked=True, colormap=cmap, grid=False, legend=False, ax=ax3, figsize=(16,12))\n",
    "ax3.set_title('Average Debt-to-Income by Region', fontsize=14)\n",
    "\n",
    "by_income = df.groupby(['year', 'region']).annual_income.mean()\n",
    "by_income.unstack().plot(kind='area', stacked=True, colormap=cmap, grid=False, ax=ax4, figsize=(16,12))\n",
    "ax4.set_title('Average Annual Income by Region', fontsize=14)\n",
    "ax4.legend(bbox_to_anchor=(-1.0, -0.5, 1.8, 0.1), loc=10,prop={'size':12},\n",
    "           ncol=5, mode=\"expand\", borderaxespad=0.)"
   ]
  },
  {
   "cell_type": "code",
   "execution_count": null,
   "metadata": {},
   "outputs": [],
   "source": [
    "# Grouping by our metrics\n",
    "by_loan_amount = df.groupby(['region','addr_state'], as_index=False).loan_amount.sum()\n",
    "by_interest_rate = df.groupby(['region', 'addr_state'], as_index=False).interest_rate.mean()\n",
    "by_income = df.groupby(['region', 'addr_state'], as_index=False).annual_income.mean()\n",
    "\n",
    "\n",
    "\n",
    "# Take the values to a list for visualization purposes.\n",
    "states = by_loan_amount['addr_state'].values.tolist()\n",
    "average_loan_amounts = by_loan_amount['loan_amount'].values.tolist()\n",
    "average_interest_rates = by_interest_rate['interest_rate'].values.tolist()\n",
    "average_annual_income = by_income['annual_income'].values.tolist()\n",
    "\n",
    "from collections import OrderedDict\n",
    "\n",
    "metrics_data = OrderedDict([('state_codes', states),\n",
    "                            ('issued_loans', average_loan_amounts),\n",
    "                            ('interest_rate', average_interest_rates),\n",
    "                            ('annual_income', average_annual_income)])\n",
    "                     \n",
    "\n",
    "metrics_df = pd.DataFrame.from_dict(metrics_data)\n",
    "metrics_df = metrics_df.round(decimals=2)\n",
    "metrics_df.head()"
   ]
  },
  {
   "cell_type": "code",
   "execution_count": null,
   "metadata": {},
   "outputs": [],
   "source": [
    "#Plotting Loans Issued Per States\n",
    "import plotly.graph_objs as go\n",
    "\n",
    "\n",
    "for col in metrics_df.columns:\n",
    "    metrics_df[col] = metrics_df[col].astype(str)\n",
    "    \n",
    "scl = [[0.0, 'rgb(210, 241, 198)'],[0.2, 'rgb(188, 236, 169)'],[0.4, 'rgb(171, 235, 145)'],\\\n",
    "            [0.6, 'rgb(140, 227, 105)'],[0.8, 'rgb(105, 201, 67)'],[1.0, 'rgb(59, 159, 19)']]\n",
    "\n",
    "metrics_df['text'] = metrics_df['state_codes'] + '<br>' +\\\n",
    "'Average loan interest rate: ' + metrics_df['interest_rate'] + '<br>'+\\\n",
    "'Average annual income: ' + metrics_df['annual_income'] \n",
    "\n",
    "\n",
    "data = [ dict(\n",
    "        type='choropleth',\n",
    "        colorscale = scl,\n",
    "        autocolorscale = False,\n",
    "        locations = metrics_df['state_codes'],\n",
    "        z = metrics_df['issued_loans'], \n",
    "        locationmode = 'USA-states',\n",
    "        text = metrics_df['text'],\n",
    "        marker = dict(\n",
    "            line = dict (\n",
    "                color = 'rgb(255,255,255)',\n",
    "                width = 2\n",
    "            ) ),\n",
    "        colorbar = dict(\n",
    "            title = \"$s USD\")\n",
    "        ) ]\n",
    "\n",
    "\n",
    "layout = dict(\n",
    "    title = 'Lending Clubs Issued Loans <br> (A Perspective for the Business Operations)',\n",
    "    geo = dict(\n",
    "        scope = 'usa',\n",
    "        projection=dict(type='albers usa'),\n",
    "        showlakes = True,\n",
    "        lakecolor = 'rgb(255, 255, 255)')\n",
    ")\n",
    "\n",
    "fig = dict(data=data, layout=layout)\n",
    "iplot(fig, filename='d3-cloropleth-map')"
   ]
  },
  {
   "cell_type": "code",
   "execution_count": null,
   "metadata": {},
   "outputs": [],
   "source": [
    "badLoansPerState = df[df['loan_condition']=='Bad Loan'].groupby('addr_state')['loan_condition'].count().sort_values()"
   ]
  },
  {
   "cell_type": "code",
   "execution_count": null,
   "metadata": {},
   "outputs": [],
   "source": [
    "#Plotting Bad Loans Issued Per State\n",
    "fig = px.bar(df, x=badLoansPerState.values, y=badLoansPerState.keys(), height=600,\n",
    "            color=badLoansPerState.keys(),\n",
    "            labels={'y':'State','x':'Number of loans'},\n",
    "            title='Number of bad loans per state',\n",
    "            orientation='h')\n",
    "fig.show()"
   ]
  },
  {
   "cell_type": "code",
   "execution_count": null,
   "metadata": {},
   "outputs": [],
   "source": [
    "goodLoansPerState = df[df['loan_condition']=='Good Loan'].groupby('addr_state')['loan_condition'].count().sort_values()"
   ]
  },
  {
   "cell_type": "code",
   "execution_count": null,
   "metadata": {},
   "outputs": [],
   "source": [
    "#Plotting Good Loans Issued Per State\n",
    "fig = px.bar(df, x=goodLoansPerState.values, y=goodLoansPerState.keys(), height=600,\n",
    "            color=goodLoansPerState.keys(),\n",
    "            labels={'y':'State','x':'Number of loans'},\n",
    "            title='Number of good loans per state',\n",
    "            orientation='h')\n",
    "fig.show()"
   ]
  },
  {
   "cell_type": "code",
   "execution_count": null,
   "metadata": {},
   "outputs": [],
   "source": [
    "#Preparing the data by filtering the values that might be usefult for the prediction\n",
    "dfPred = df.filter(['loan_amount','term','interest_rate','installment','grade','sub_grade','emp_length','home_ownership',\n",
    "                    'annual_income','purpose','funded_amount','tot_cur_bal','dti','delinq_2yrs','loan_status',\n",
    "                    'recoveries','collection_recovery_fee','total_rec_prncp','out_prncp','last_pymnt_d'])"
   ]
  },
  {
   "cell_type": "code",
   "execution_count": null,
   "metadata": {},
   "outputs": [],
   "source": [
    "dfCleared = dfPred.dropna()"
   ]
  },
  {
   "cell_type": "code",
   "execution_count": null,
   "metadata": {},
   "outputs": [],
   "source": [
    "sns.heatmap(dfCleared.isnull())"
   ]
  },
  {
   "cell_type": "code",
   "execution_count": null,
   "metadata": {},
   "outputs": [],
   "source": [
    "dfCleared.info()"
   ]
  },
  {
   "cell_type": "code",
   "execution_count": null,
   "metadata": {},
   "outputs": [],
   "source": [
    "dfCleared['loan_status'] = dfCleared['loan_status'].apply(loan_condition)"
   ]
  },
  {
   "cell_type": "code",
   "execution_count": null,
   "metadata": {},
   "outputs": [],
   "source": [
    "dfCleared"
   ]
  },
  {
   "cell_type": "code",
   "execution_count": null,
   "metadata": {},
   "outputs": [],
   "source": [
    "dfCleared['interest_rate'] = dfCleared['interest_rate'].map(lambda x: x/100)"
   ]
  },
  {
   "cell_type": "code",
   "execution_count": null,
   "metadata": {},
   "outputs": [],
   "source": [
    "#Plotting the correllation between the data columns \n",
    "plt.figure(figsize=(20,20))\n",
    "sns.set_context(\"paper\", font_scale=1)\n",
    "##finding the correllation matrix and changing the categorical data to category for the plot.\n",
    "sns.heatmap(dfCleared.assign(\n",
    "                        loan_status=dfCleared.loan_status.astype('category').cat.codes.astype(float),\n",
    "                        grade=dfCleared.grade.astype('category').cat.codes.astype(float),\n",
    "                        sub_grade=dfCleared.sub_grade.astype('category').cat.codes.astype(float),\n",
    "                        term=dfCleared.term.astype('category').cat.codes.astype(float),\n",
    "                        emp_length=dfCleared.emp_length.astype('category').cat.codes.astype(float),\n",
    "                        home_ownership=dfCleared.home_ownership.astype('category').cat.codes.astype(float),\n",
    "                        purpose=dfCleared.purpose.astype('category').cat.codes.astype(float),\n",
    "                        delinq_2yrs=dfCleared.delinq_2yrs.astype('category').cat.codes.astype(float),\n",
    "                        last_pymnt_d=dfCleared.last_pymnt_d.astype('category').cat.codes.astype(float),\n",
    "                        funded_amount=dfCleared.funded_amount.astype(float)).corr(),\n",
    "                        annot=True, cmap='bwr',vmin=-1, vmax=1, square=True, linewidths=0.5)"
   ]
  },
  {
   "cell_type": "code",
   "execution_count": null,
   "metadata": {},
   "outputs": [],
   "source": [
    "#Dropping the columns which will not be useful\n",
    "dfCleared.drop(['installment','grade','sub_grade','term','funded_amount','collection_recovery_fee']\n",
    "           , axis=1, inplace = True)"
   ]
  },
  {
   "cell_type": "code",
   "execution_count": null,
   "metadata": {},
   "outputs": [],
   "source": [
    "dfCleared"
   ]
  },
  {
   "cell_type": "code",
   "execution_count": null,
   "metadata": {},
   "outputs": [],
   "source": [
    "sns.pairplot(dfCleared,hue='loan_status')"
   ]
  },
  {
   "cell_type": "code",
   "execution_count": null,
   "metadata": {},
   "outputs": [],
   "source": [
    "#Preparing the data by categorizing the columns with type of values object\n",
    "dfCleared[\"loan_status\"] = dfCleared[\"loan_status\"].replace(['Good Loan', 'Bad Loan'], [1,0])\n",
    "dfCleared.purpose=dfCleared.purpose.astype('category').cat.codes\n",
    "dfCleared.delinq_2yrs=dfCleared.delinq_2yrs.astype('category').cat.codes\n",
    "dfCleared.home_ownership=dfCleared.home_ownership.astype('category').cat.codes\n",
    "dfCleared.emp_length=dfCleared.emp_length.astype('category').cat.codes\n",
    "dfCleared.last_pymnt_d=dfCleared.last_pymnt_d.astype('category').cat.codes\n",
    "\n",
    "final_data = dfCleared"
   ]
  },
  {
   "cell_type": "code",
   "execution_count": null,
   "metadata": {},
   "outputs": [],
   "source": [
    "final_data"
   ]
  },
  {
   "cell_type": "code",
   "execution_count": null,
   "metadata": {},
   "outputs": [],
   "source": [
    "#Splitting the data into train an test set\n",
    "from sklearn.metrics import classification_report,confusion_matrix\n",
    "from sklearn.model_selection import train_test_split\n",
    "\n",
    "X = final_data.drop('loan_status',axis=1)\n",
    "y = final_data['loan_status']\n",
    "X_train, X_test, y_train, y_test = train_test_split(X, y, test_size=0.35,random_state=101)\n"
   ]
  },
  {
   "cell_type": "code",
   "execution_count": null,
   "metadata": {},
   "outputs": [],
   "source": [
    "#Crate a coss validation function for evaluation of the model\n",
    "def evaluate_cross_validation(clf,X,y,K):\n",
    "    kf = KFold(K, shuffle=True, random_state=0)\n",
    "    \n",
    "    scores = cross_val_score(clf, X, y, cv=kf)\n",
    "    \n",
    "    print(\"Scores: \\n\"  , scores)\n",
    "    print(\"Accuracy: %0.2f (+/- %0.2f)\" % (scores.mean(), scores.std() * 2))"
   ]
  },
  {
   "cell_type": "code",
   "execution_count": null,
   "metadata": {},
   "outputs": [],
   "source": [
    "def confusion_matrix_display(confusion_score):\n",
    "    f, ax_m = plt.subplots(1, 3, figsize=(18, 6))\n",
    "\n",
    "    cm_pred_label_sum = confusion_score.sum(axis=0)\n",
    "    cm_true_label_sum = confusion_score.sum(axis=1)\n",
    "\n",
    "    model_precision, model_recall = np.empty([2, 2], dtype=float), np.empty([2, 2], dtype=float)\n",
    "    model_precision[0][0], model_precision[1][0] = confusion_score[0][0] / cm_pred_label_sum[0], \\\n",
    "                                                         confusion_score[1][0] / cm_pred_label_sum[0] \n",
    "    model_precision[0][1], model_precision[1][1] = confusion_score[0][1] / cm_pred_label_sum[1], \\\n",
    "                                                         confusion_score[1][1] / cm_pred_label_sum[1]\n",
    "    model_recall[0][0], model_recall[0][1] = confusion_score[0][0] / cm_true_label_sum[0], \\\n",
    "                                                   confusion_score[0][1] / cm_true_label_sum[0]\n",
    "    model_recall[1][0], model_recall[1][1] = confusion_score[1][0] / cm_true_label_sum[1], \\\n",
    "                                                   confusion_score[1][1] / cm_true_label_sum[1]\n",
    "    sns.heatmap(confusion_score, annot=True, fmt=\"d\", cmap=\"Blues\", ax=ax_m[0], square=True, linewidths=0.5)\n",
    "    sns.heatmap(model_precision, annot=True, fmt=\".5f\", cmap=\"Blues\", ax=ax_m[1], square=True, linewidths=0.5)\n",
    "    sns.heatmap(model_recall, annot=True, fmt=\".5f\", cmap=\"Blues\", ax=ax_m[2], square=True, linewidths=0.5)\n",
    "    ax_m[0].set_title(\"confusion matrix\", fontsize=16)\n",
    "    ax_m[1].set_title(\"model precision\", fontsize=16)\n",
    "    ax_m[2].set_title(\"model recall\", fontsize=16)\n",
    "    ax_m[0].set_xlabel(\"Predicted label\", fontsize=16)\n",
    "    ax_m[0].set_ylabel(\"True label\", fontsize=16)\n",
    "    ax_m[1].set_xlabel(\"Predicted label\", fontsize=16)\n",
    "    ax_m[1].set_ylabel(\"True label\", fontsize=16)\n",
    "    ax_m[2].set_xlabel(\"Predicted label\", fontsize=16)\n",
    "    ax_m[2].set_ylabel(\"True label\", fontsize=16)\n",
    "    plt.show()\n",
    "    plt.close()"
   ]
  },
  {
   "cell_type": "code",
   "execution_count": null,
   "metadata": {
    "scrolled": false
   },
   "outputs": [],
   "source": [
    "#Decision Tree CLassifier Model Fitting\n",
    "from sklearn.tree import DecisionTreeClassifier\n",
    "dtree = DecisionTreeClassifier()\n",
    "# dtree.fit(X_train,y_train)\n",
    "predictions = dtree.predict(X_test)\n",
    "dtree_confusion_score = confusion_matrix(y_test, predictions)\n",
    "print(accuracy_score(y_test, predictions))\n",
    "confusion_matrix_display(dtree_confusion_score)"
   ]
  },
  {
   "cell_type": "code",
   "execution_count": null,
   "metadata": {
    "scrolled": false
   },
   "outputs": [],
   "source": [
    "#Random Forest Classifier Fitting\n",
    "from sklearn.ensemble import RandomForestClassifier\n",
    "rfc2 = RandomForestClassifier(n_estimators=100)\n",
    "rfc2.fit(X_train, y_train)\n",
    "rfc_pred = rfc2.predict(X_test)\n",
    "\n",
    "rf_test_acc = accuracy_score(y_test, rfc_pred)\n",
    "rf_classification_score = classification_report(y_test, rfc_pred)\n",
    "print(\"Rf model test accuracy:{:.4f}\".format(rf_test_acc))\n",
    "print(\"rf model classification_score:\\n\", rf_classification_score)\n",
    "rf_confusion_score = confusion_matrix(y_test, rfc_pred)\n",
    "\n",
    "confusion_matrix_display(rf_confusion_score)\n",
    "\n",
    "#Grid Search for the best number of estimators \n",
    "\n",
    "# params = {'n_estimators': [50, 100, 200, 400, 600, 800]}\n",
    "# grid_search = GridSearchCV(RandomForestClassifier(), param_grid=params,\n",
    "#                                    scoring='accuracy', cv=5, n_jobs=-1)\n",
    "# grid_search.fit(X_train, y_train)\n",
    "# print(grid_search.best_params_)\n",
    "# print(grid_search.best_score_)"
   ]
  },
  {
   "cell_type": "code",
   "execution_count": null,
   "metadata": {},
   "outputs": [],
   "source": [
    "#Applying Neural Network algorithm with tensorflow\n",
    "import tensorflow as tf"
   ]
  },
  {
   "cell_type": "code",
   "execution_count": null,
   "metadata": {},
   "outputs": [],
   "source": [
    "dfCleared.columns"
   ]
  },
  {
   "cell_type": "code",
   "execution_count": null,
   "metadata": {},
   "outputs": [],
   "source": [
    "#Feature selection\n",
    "loan_amount = tf.feature_column.numeric_column(\"loan_amount\")\n",
    "interest_rate = tf.feature_column.numeric_column('interest_rate')\n",
    "emp_length = tf.feature_column.numeric_column('emp_length')\n",
    "home_ownership =tf.feature_column.numeric_column('home_ownership')\n",
    "annual_income = tf.feature_column.numeric_column(\"annual_income\")\n",
    "purpose = tf.feature_column.numeric_column('purpose')\n",
    "tot_cur_bal = tf.feature_column.numeric_column('tot_cur_bal')\n",
    "dti =tf.feature_column.numeric_column('dti')\n",
    "delinq_2yrs = tf.feature_column.numeric_column('delinq_2yrs')\n",
    "recoveries = tf.feature_column.numeric_column('recoveries')\n",
    "total_rec_prncp = tf.feature_column.numeric_column('total_rec_prncp')\n",
    "out_prncp = tf.feature_column.numeric_column('out_prncp')\n",
    "last_pymnt_d = tf.feature_column.numeric_column('last_pymnt_d')"
   ]
  },
  {
   "cell_type": "code",
   "execution_count": null,
   "metadata": {},
   "outputs": [],
   "source": [
    "feat_cols = [loan_amount,interest_rate,emp_length,home_ownership,annual_income,purpose,tot_cur_bal,dti,delinq_2yrs,recoveries,\n",
    "             total_rec_prncp,out_prncp,last_pymnt_d]"
   ]
  },
  {
   "cell_type": "code",
   "execution_count": null,
   "metadata": {},
   "outputs": [],
   "source": [
    "classifier = tf.estimator.DNNClassifier(hidden_units=[1500], n_classes=2,feature_columns=feat_cols)"
   ]
  },
  {
   "cell_type": "code",
   "execution_count": null,
   "metadata": {},
   "outputs": [],
   "source": [
    "input_func = tf.compat.v1.estimator.inputs.pandas_input_fn(x=X_train,y=y_train,batch_size=20,shuffle=True)"
   ]
  },
  {
   "cell_type": "code",
   "execution_count": null,
   "metadata": {},
   "outputs": [],
   "source": [
    "classifier.train(input_fn=input_func,steps=10000)"
   ]
  },
  {
   "cell_type": "code",
   "execution_count": null,
   "metadata": {},
   "outputs": [],
   "source": [
    "pred_fn = tf.compat.v1.estimator.inputs.pandas_input_fn(x=X_test,batch_size=len(X_test),shuffle=False)"
   ]
  },
  {
   "cell_type": "code",
   "execution_count": null,
   "metadata": {},
   "outputs": [],
   "source": [
    "note_predictions = list(classifier.predict(input_fn=pred_fn))"
   ]
  },
  {
   "cell_type": "code",
   "execution_count": null,
   "metadata": {},
   "outputs": [],
   "source": [
    "note_predictions[0]"
   ]
  },
  {
   "cell_type": "code",
   "execution_count": null,
   "metadata": {},
   "outputs": [],
   "source": [
    "final_preds  = []\n",
    "for pred in note_predictions:\n",
    "    final_preds.append(pred['class_ids'][0])"
   ]
  },
  {
   "cell_type": "code",
   "execution_count": null,
   "metadata": {
    "scrolled": true
   },
   "outputs": [],
   "source": [
    "nn_confusion_score = confusion_matrix(y_test, final_preds)\n",
    "print(nn_confusion_score)"
   ]
  },
  {
   "cell_type": "code",
   "execution_count": null,
   "metadata": {},
   "outputs": [],
   "source": [
    "print(classification_report(y_test,final_preds))\n",
    "print(accuracy_score(y_test, final_preds))\n",
    "\n",
    "confusion_matrix_display(nn_confusion_score)"
   ]
  },
  {
   "cell_type": "code",
   "execution_count": null,
   "metadata": {},
   "outputs": [],
   "source": [
    "%load_ext tensorboard"
   ]
  },
  {
   "cell_type": "code",
   "execution_count": null,
   "metadata": {},
   "outputs": [],
   "source": [
    "from datetime import datetime\n",
    "from tensorflow import keras\n",
    "\n",
    "#Defining a keras model\n",
    "model = keras.models.Sequential([\n",
    "    keras.layers.Flatten(),\n",
    "    keras.layers.Dense(1500, activation='relu'),\n",
    "    keras.layers.Dropout(0.2),\n",
    "    keras.layers.Dense(10, activation='softmax')\n",
    "])\n",
    "\n",
    "model.compile(\n",
    "    optimizer='adam',\n",
    "    loss='sparse_categorical_crossentropy',\n",
    "    metrics=['accuracy'])\n",
    "\n",
    "# Define the Keras TensorBoard callback.\n",
    "logdir=\"logs\\\\fit\\\\\" + datetime.now().strftime(\"%Y%m%d-%H%M%S\")\n",
    "tensorboard_callback = keras.callbacks.TensorBoard(log_dir=logdir)\n",
    "\n",
    "#Converting to numpy array\n",
    "X_train=np.asarray(X_train) \n",
    "y_train= np.asarray(y_train) \n",
    "\n",
    "# Train the model.\n",
    "model.fit(\n",
    "    X_train,\n",
    "    y_train, \n",
    "    batch_size=20,\n",
    "    epochs=4, \n",
    "    callbacks=[tensorboard_callback])\n"
   ]
  },
  {
   "cell_type": "code",
   "execution_count": null,
   "metadata": {
    "scrolled": false
   },
   "outputs": [],
   "source": [
    "import os\n",
    "logs_base_dir = \"./logs\"\n",
    "os.makedirs(logs_base_dir, exist_ok=True)\n",
    "%tensorboard --logdir {logs_base_dir}  --host localhost"
   ]
  },
  {
   "cell_type": "code",
   "execution_count": null,
   "metadata": {},
   "outputs": [],
   "source": [
    "# !TASKKILL -F /PID 15264"
   ]
  }
 ],
 "metadata": {
  "kernelspec": {
   "display_name": "Python 3",
   "language": "python",
   "name": "python3"
  },
  "language_info": {
   "codemirror_mode": {
    "name": "ipython",
    "version": 3
   },
   "file_extension": ".py",
   "mimetype": "text/x-python",
   "name": "python",
   "nbconvert_exporter": "python",
   "pygments_lexer": "ipython3",
   "version": "3.7.3"
  }
 },
 "nbformat": 4,
 "nbformat_minor": 2
}
